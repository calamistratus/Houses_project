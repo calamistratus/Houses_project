{
  "nbformat": 4,
  "nbformat_minor": 0,
  "metadata": {
    "colab": {
      "provenance": [],
      "mount_file_id": "1HuU0ql5LTjU_0y_xislxcf1lwxEkKnRZ",
      "authorship_tag": "ABX9TyNfNpCrqc6f/X5brsrlu+eq",
      "include_colab_link": true
    },
    "kernelspec": {
      "name": "python3",
      "display_name": "Python 3"
    },
    "language_info": {
      "name": "python"
    }
  },
  "cells": [
    {
      "cell_type": "markdown",
      "metadata": {
        "id": "view-in-github",
        "colab_type": "text"
      },
      "source": [
        "<a href=\"https://colab.research.google.com/github/calamistratus/Houses_project/blob/main/Fixing_the_NaNs.ipynb\" target=\"_parent\"><img src=\"https://colab.research.google.com/assets/colab-badge.svg\" alt=\"Open In Colab\"/></a>"
      ]
    },
    {
      "cell_type": "code",
      "execution_count": 122,
      "metadata": {
        "id": "0RFTpp09c_Jy"
      },
      "outputs": [],
      "source": [
        "import numpy as np\n",
        "import pandas as pd\n",
        "\n",
        "from IPython.display import clear_output"
      ]
    },
    {
      "cell_type": "code",
      "source": [
        " #  Fixes NaNs based on parametres provided.\n",
        " #  With no 'by' and 'gentle=False' fills NaNs with 0 or 'no'.\n",
        " #  With no 'by' and 'gentle=True' fills NaNs with either most popular object or mean of the dataframe.\n",
        " #  With array of 'by' columns makes a groupby and fills NaNs based on their parameters.\n",
        " #  With non-False 'by', scaler, model, and a goal(A target variable column name) fills NaNs based on a predictions of a given model based on other parameters.\n",
        "\n",
        "def fix_na(series, gentle=False, by=[], dataframe=None, model=None, scaler=None, goal=''):\n",
        "    if type(series) == str:\n",
        "        series = dataframe[series]\n",
        "    if by:\n",
        "        if gentle:\n",
        "            dataframe = dataframe.drop(goal, axis=1)\n",
        "            for i in check_na(dataframe).keys().drop(series.name):\n",
        "               fix_na_set(dataframe, i, True)\n",
        "\n",
        "            train = pd.get_dummies(dataframe.drop(series.name, axis=1), drop_first=True)\n",
        "            y = dataframe[series.name][~dataframe[series.name].isnull()]\n",
        "            X = train[~dataframe[series.name].isnull()]\n",
        "            X = scaler.fit_transform(X)\n",
        "\n",
        "            model.fit(X, y)\n",
        "\n",
        "            return series.fillna(pd.Series(model.predict(scaler.fit_transform(train))))\n",
        "\n",
        "        else:\n",
        "            #if by is str:\n",
        "                #by = [by]\n",
        "            match series.dtype:\n",
        "                case 'float64':\n",
        "                    groupby = dataframe.groupby(by)[series.name].mean()\n",
        "                    key = series.mean()\n",
        "\n",
        "                    def pick_pop(by_data):\n",
        "                        if [1 for i in by_data if i is np.nan]:\n",
        "                            return groupby.iloc[0]\n",
        "                        else:\n",
        "                            try:\n",
        "                                return groupby[by_data]\n",
        "                            except:\n",
        "                                return key\n",
        "\n",
        "                    return series.fillna(pd.Series(np.vectorize(pick_pop)(*[df[i] for i in by])))\n",
        "\n",
        "                case 'object':\n",
        "                    groupby = dataframe.groupby(by)[series.name].value_counts()\n",
        "                    key = series.value_counts().keys()[0]\n",
        "\n",
        "                    def pick_pop(*by_data):\n",
        "                        if [1 for i in [by_data] if i is np.nan]:\n",
        "                            x = eval('groupby.keys()[1]' + '[1]' * len([by_data]))\n",
        "                            return x\n",
        "                        else:\n",
        "                            try:\n",
        "                                return groupby[by_data].keys()[0]\n",
        "                            except:\n",
        "                                return key\n",
        "\n",
        "                    return series.fillna(pd.Series(np.vectorize(pick_pop)(*[df[i] for i in by])))\n",
        "\n",
        "    else:\n",
        "        if gentle:\n",
        "            match series.dtype:\n",
        "                case 'float64':\n",
        "                    return series.fillna(series.mean())\n",
        "                case 'object':\n",
        "                    return series.fillna(list(series.value_counts().keys())[0])\n",
        "\n",
        "        else:\n",
        "            match series.dtype:\n",
        "                case 'float64':\n",
        "                    return series.fillna(0)\n",
        "                case 'object':\n",
        "                    return series.fillna('no')\n",
        "\n",
        "\n",
        "def fix_na_set(dataframe, column, gentle = False, by='', model=None, scaler=None, goal=''):   # Automatically sets the fixed column into a dataframe.\n",
        "    dataframe[column] = fix_na(series = dataframe[column], gentle = gentle, by = by, dataframe = dataframe, model=model, scaler=scaler, goal=goal)\n",
        "\n",
        "\n",
        "\n",
        "def check_na(dataframe, column = ''):   # Checks for NaNs in dataframe, if the column is provided, gives a more detailed summary\n",
        "    if column:\n",
        "        print('\\n', dataframe[column].value_counts().head(10), '\\n\\n', 'Number of na:', dataframe[column].isnull().sum(), '\\n')\n",
        "        return pd.concat([dataframe[dataframe[column].isnull() > 0].head(),\n",
        "                          dataframe.head(1) == np.nan,\n",
        "                          dataframe.sample(len(dataframe[dataframe[column].isnull() > 0].head()))], axis=0)\n",
        "    else:\n",
        "        return dataframe.isnull().sum()[dataframe.isnull().sum() > 0]"
      ],
      "metadata": {
        "id": "hJW4FxNEhkwd"
      },
      "execution_count": 101,
      "outputs": []
    },
    {
      "cell_type": "code",
      "source": [
        "def only_important(column, df, gentle=False, num=50):  # Either replaces values with frequency less than number given with 'no' or the most popular value if 'gentle' is specified\n",
        "  counts = df[column].value_counts()\n",
        "  if not gentle:\n",
        "    def subfunc(my_str):\n",
        "      try:\n",
        "          if counts.loc[my_str] < num:\n",
        "              return 'no'\n",
        "          else:\n",
        "              return my_str\n",
        "      except KeyError:\n",
        "          return 'no'\n",
        "    return df[column].apply(subfunc)\n",
        "  else:\n",
        "    def subfunc(my_str):\n",
        "      try:\n",
        "          if counts.loc[my_str] < num:\n",
        "              return counts.keys()[0]\n",
        "          else:\n",
        "              return my_str\n",
        "      except KeyError:\n",
        "          return 'no'\n",
        "    return df[column].apply(subfunc)"
      ],
      "metadata": {
        "id": "c5_06jUulyHD"
      },
      "execution_count": 120,
      "outputs": []
    },
    {
      "cell_type": "code",
      "source": [
        "path = '/content/drive/MyDrive/Documents/home-data-for-ml-course/'\n",
        "\n",
        "train = pd.read_csv(path + 'train.csv')\n",
        "test = pd.read_csv(path + 'test.csv')\n",
        "\n",
        "df = pd.concat([train, test], axis=0, ignore_index=True)\n",
        "df.to_csv('df.csv')   # might come handy for further statistics."
      ],
      "metadata": {
        "id": "V9LzMPHseSgN"
      },
      "execution_count": 121,
      "outputs": []
    },
    {
      "cell_type": "code",
      "source": [
        "df.info()"
      ],
      "metadata": {
        "colab": {
          "base_uri": "https://localhost:8080/"
        },
        "id": "taKPm43Ro9rc",
        "outputId": "a6a7ef4b-db2f-4942-fd68-5a02195b5861"
      },
      "execution_count": 86,
      "outputs": [
        {
          "output_type": "stream",
          "name": "stdout",
          "text": [
            "<class 'pandas.core.frame.DataFrame'>\n",
            "RangeIndex: 2919 entries, 0 to 2918\n",
            "Data columns (total 81 columns):\n",
            " #   Column         Non-Null Count  Dtype  \n",
            "---  ------         --------------  -----  \n",
            " 0   Id             2919 non-null   int64  \n",
            " 1   MSSubClass     2919 non-null   int64  \n",
            " 2   MSZoning       2915 non-null   object \n",
            " 3   LotFrontage    2433 non-null   float64\n",
            " 4   LotArea        2919 non-null   int64  \n",
            " 5   Street         2919 non-null   object \n",
            " 6   Alley          198 non-null    object \n",
            " 7   LotShape       2919 non-null   object \n",
            " 8   LandContour    2919 non-null   object \n",
            " 9   Utilities      2917 non-null   object \n",
            " 10  LotConfig      2919 non-null   object \n",
            " 11  LandSlope      2919 non-null   object \n",
            " 12  Neighborhood   2919 non-null   object \n",
            " 13  Condition1     2919 non-null   object \n",
            " 14  Condition2     2919 non-null   object \n",
            " 15  BldgType       2919 non-null   object \n",
            " 16  HouseStyle     2919 non-null   object \n",
            " 17  OverallQual    2919 non-null   int64  \n",
            " 18  OverallCond    2919 non-null   int64  \n",
            " 19  YearBuilt      2919 non-null   int64  \n",
            " 20  YearRemodAdd   2919 non-null   int64  \n",
            " 21  RoofStyle      2919 non-null   object \n",
            " 22  RoofMatl       2919 non-null   object \n",
            " 23  Exterior1st    2918 non-null   object \n",
            " 24  Exterior2nd    2918 non-null   object \n",
            " 25  MasVnrType     1153 non-null   object \n",
            " 26  MasVnrArea     2896 non-null   float64\n",
            " 27  ExterQual      2919 non-null   object \n",
            " 28  ExterCond      2919 non-null   object \n",
            " 29  Foundation     2919 non-null   object \n",
            " 30  BsmtQual       2838 non-null   object \n",
            " 31  BsmtCond       2837 non-null   object \n",
            " 32  BsmtExposure   2837 non-null   object \n",
            " 33  BsmtFinType1   2840 non-null   object \n",
            " 34  BsmtFinSF1     2918 non-null   float64\n",
            " 35  BsmtFinType2   2839 non-null   object \n",
            " 36  BsmtFinSF2     2918 non-null   float64\n",
            " 37  BsmtUnfSF      2918 non-null   float64\n",
            " 38  TotalBsmtSF    2918 non-null   float64\n",
            " 39  Heating        2919 non-null   object \n",
            " 40  HeatingQC      2919 non-null   object \n",
            " 41  CentralAir     2919 non-null   object \n",
            " 42  Electrical     2918 non-null   object \n",
            " 43  1stFlrSF       2919 non-null   int64  \n",
            " 44  2ndFlrSF       2919 non-null   int64  \n",
            " 45  LowQualFinSF   2919 non-null   int64  \n",
            " 46  GrLivArea      2919 non-null   int64  \n",
            " 47  BsmtFullBath   2917 non-null   float64\n",
            " 48  BsmtHalfBath   2917 non-null   float64\n",
            " 49  FullBath       2919 non-null   int64  \n",
            " 50  HalfBath       2919 non-null   int64  \n",
            " 51  BedroomAbvGr   2919 non-null   int64  \n",
            " 52  KitchenAbvGr   2919 non-null   int64  \n",
            " 53  KitchenQual    2918 non-null   object \n",
            " 54  TotRmsAbvGrd   2919 non-null   int64  \n",
            " 55  Functional     2917 non-null   object \n",
            " 56  Fireplaces     2919 non-null   int64  \n",
            " 57  FireplaceQu    1499 non-null   object \n",
            " 58  GarageType     2762 non-null   object \n",
            " 59  GarageYrBlt    2760 non-null   float64\n",
            " 60  GarageFinish   2760 non-null   object \n",
            " 61  GarageCars     2918 non-null   float64\n",
            " 62  GarageArea     2918 non-null   float64\n",
            " 63  GarageQual     2760 non-null   object \n",
            " 64  GarageCond     2760 non-null   object \n",
            " 65  PavedDrive     2919 non-null   object \n",
            " 66  WoodDeckSF     2919 non-null   int64  \n",
            " 67  OpenPorchSF    2919 non-null   int64  \n",
            " 68  EnclosedPorch  2919 non-null   int64  \n",
            " 69  3SsnPorch      2919 non-null   int64  \n",
            " 70  ScreenPorch    2919 non-null   int64  \n",
            " 71  PoolArea       2919 non-null   int64  \n",
            " 72  PoolQC         10 non-null     object \n",
            " 73  Fence          571 non-null    object \n",
            " 74  MiscFeature    105 non-null    object \n",
            " 75  MiscVal        2919 non-null   int64  \n",
            " 76  MoSold         2919 non-null   int64  \n",
            " 77  YrSold         2919 non-null   int64  \n",
            " 78  SaleType       2918 non-null   object \n",
            " 79  SaleCondition  2919 non-null   object \n",
            " 80  SalePrice      1460 non-null   float64\n",
            "dtypes: float64(12), int64(26), object(43)\n",
            "memory usage: 1.8+ MB\n"
          ]
        }
      ]
    },
    {
      "cell_type": "code",
      "source": [
        "for i in df.columns:    # For manual check of every column.\n",
        "  if input() != '' : break\n",
        "  clear_output()\n",
        "  check_na(df, i)"
      ],
      "metadata": {
        "colab": {
          "base_uri": "https://localhost:8080/"
        },
        "id": "udJ2qTnTj8QR",
        "outputId": "0119a1ba-ffcc-443e-9636-c24275215dc7"
      },
      "execution_count": 119,
      "outputs": [
        {
          "name": "stdout",
          "output_type": "stream",
          "text": [
            "stop\n"
          ]
        }
      ]
    },
    {
      "cell_type": "code",
      "source": [
        "df = df.set_index('Id')   # Self-explanatory."
      ],
      "metadata": {
        "id": "LSOLW2Djnlvv"
      },
      "execution_count": 109,
      "outputs": []
    },
    {
      "cell_type": "code",
      "source": [
        "fix_na_set(df, 'Alley')   # Most of houses just don't have an alley.\n",
        "fix_na_set(df, 'MasVnrType')    # Most of houses just don't have an Vener.\n",
        "fix_na_set(df, 'MasVnrArea')\n",
        "fix_na_set(df, 'BsmtQual')    # Around 150 houses don't have a basement.\n",
        "fix_na_set(df, 'BsmtCond')\n",
        "fix_na_set(df, 'BsmtExposure')\n",
        "fix_na_set(df, 'BsmtFinType1')\n",
        "fix_na_set(df, 'BsmtFinSF1')\n",
        "fix_na_set(df, 'BsmtFinType2')\n",
        "fix_na_set(df, 'BsmtFinSF2')\n",
        "fix_na_set(df, 'BsmtUnfSF')\n",
        "fix_na_set(df, 'TotalBsmtSF')\n",
        "fix_na_set(df, 'BsmtFullBath')\n",
        "fix_na_set(df, 'BsmtHalfBath')\n",
        "fix_na_set(df, 'FireplaceQu')   # Most houses don't have a fireplace.\n",
        "fix_na_set(df, 'GarageType')    # Around 150 houses don't have a garage.\n",
        "fix_na_set(df, 'GarageYrBlt')\n",
        "fix_na_set(df, 'GarageFinish')\n",
        "fix_na_set(df, 'GarageArea')\n",
        "fix_na_set(df, 'GarageQual')\n",
        "fix_na_set(df, 'GarageCond')\n",
        "fix_na_set(df, 'Fence')   # 2348 Houses don't have a fence.\n",
        "fix_na_set(df, 'MiscFeature')   # Most houses don't have additional miscalenious features."
      ],
      "metadata": {
        "id": "UZ7axj6rqxir"
      },
      "execution_count": 110,
      "outputs": []
    },
    {
      "cell_type": "code",
      "source": [
        "fix_na_set(df, 'Exterior1st', True)   # A single missing NaN not worth futher research.\n",
        "fix_na_set(df, 'Exterior2nd', True)\n",
        "fix_na_set(df, 'KitchenQual', True)\n",
        "fix_na_set(df, 'Functional', True)\n",
        "fix_na_set(df, 'GarageCars', True)\n",
        "fix_na_set(df, 'SaleType', True)\n",
        "fix_na_set(df, 'Electrical', True)"
      ],
      "metadata": {
        "id": "phZjPfrcYJ3T"
      },
      "execution_count": 111,
      "outputs": []
    },
    {
      "cell_type": "code",
      "source": [
        "df = df.drop('Street', axis=1)    # Only 12 insignificant features that differ from 'Pave'\n",
        "df = df.drop('Utilities', axis=1)   # Only 2 NaNs and one house that's different.\n",
        "df['PoolQC'] = ~df['PoolQC'].isna()   # Only 8 houses have a pool. It's worth mentioning though for it's value."
      ],
      "metadata": {
        "id": "VqM4hU5oqlCe"
      },
      "execution_count": 112,
      "outputs": []
    },
    {
      "cell_type": "code",
      "source": [
        "df['Condition2'] = only_important('Condition2', df, fill='gentle', num=10)    # Many feautres with little significance and counts of 1-9 that litter the data.\n",
        "df['RoofMatl'] = only_important('RoofMatl', df, fill='gentle', num=10)    # Exeption was made for quality parameters for their sheer value.\n",
        "df['RoofStyle'] = only_important('RoofStyle', df, fill='gentle', num=10)\n",
        "df['Heating'] = only_important('RoofStyle', df, fill='gentle', num=10)\n",
        "df['Electrical'] = only_important('Electrical', df, fill='gentle', num=10)\n",
        "df['Functional'] = only_important('Electrical', df, fill='gentle', num=10)"
      ],
      "metadata": {
        "id": "SClMhLGuVfq3"
      },
      "execution_count": 113,
      "outputs": []
    },
    {
      "cell_type": "code",
      "source": [
        "fix_na_set(df, 'MSZoning', False, ['Neighborhood'])   # small value of NaNs which are related to 'Neighborhood'."
      ],
      "metadata": {
        "id": "i1ln5qDTpc-l"
      },
      "execution_count": 114,
      "outputs": []
    },
    {
      "cell_type": "code",
      "source": [
        "from xgboost import XGBRegressor    # Fast and effective in most situations.\n",
        "from sklearn.preprocessing import StandardScaler\n",
        "\n",
        "fix_na_set(df, 'LotFrontage', True, True, XGBRegressor(), StandardScaler(), 'SalePrice')    # Is hardly predictable, but I've tried using a model to capture most of what I've got."
      ],
      "metadata": {
        "id": "S7rV1TPhoZ2-"
      },
      "execution_count": 115,
      "outputs": []
    },
    {
      "cell_type": "code",
      "source": [
        "df.isnull().sum().drop('SalePrice', axis=0)[df.isnull().sum().drop('SalePrice', axis=0) > 0]  # No NaNs left!"
      ],
      "metadata": {
        "colab": {
          "base_uri": "https://localhost:8080/",
          "height": 84
        },
        "id": "18k1SKqUarzn",
        "outputId": "c8df21c5-72bd-492c-a977-411232fc8aa6"
      },
      "execution_count": 116,
      "outputs": [
        {
          "output_type": "execute_result",
          "data": {
            "text/plain": [
              "Series([], dtype: int64)"
            ],
            "text/html": [
              "<div>\n",
              "<style scoped>\n",
              "    .dataframe tbody tr th:only-of-type {\n",
              "        vertical-align: middle;\n",
              "    }\n",
              "\n",
              "    .dataframe tbody tr th {\n",
              "        vertical-align: top;\n",
              "    }\n",
              "\n",
              "    .dataframe thead th {\n",
              "        text-align: right;\n",
              "    }\n",
              "</style>\n",
              "<table border=\"1\" class=\"dataframe\">\n",
              "  <thead>\n",
              "    <tr style=\"text-align: right;\">\n",
              "      <th></th>\n",
              "      <th>0</th>\n",
              "    </tr>\n",
              "  </thead>\n",
              "  <tbody>\n",
              "  </tbody>\n",
              "</table>\n",
              "</div><br><label><b>dtype:</b> int64</label>"
            ]
          },
          "metadata": {},
          "execution_count": 116
        }
      ]
    },
    {
      "cell_type": "code",
      "source": [
        "df.to_csv('fixed_df.csv')"
      ],
      "metadata": {
        "id": "IXT7F-vLaycR"
      },
      "execution_count": 117,
      "outputs": []
    }
  ]
}